{
 "cells": [
  {
   "cell_type": "markdown",
   "metadata": {},
   "source": [
    "# Description of micro credit"
   ]
  },
  {
   "cell_type": "markdown",
   "metadata": {},
   "source": [
    "Variable\tDefinition\tComment\n",
    "label\tFlag indicating whether the user paid back the credit amount within 5 days of issuing the loan{1:success, 0:failure}\t\n",
    "msisdn\tmobile number of user\t\n",
    "aon\tage on cellular network in days\t\n",
    "daily_decr30\tDaily amount spent from main account, averaged over last 30 days (in Indonesian Rupiah)\t\n",
    "daily_decr90\tDaily amount spent from main account, averaged over last 90 days (in Indonesian Rupiah)\t\n",
    "rental30\tAverage main account balance over last 30 days\tUnsure of given definition\n",
    "rental90\tAverage main account balance over last 90 days\tUnsure of given definition\n",
    "last_rech_date_ma\tNumber of days till last recharge of main account\t\n",
    "last_rech_date_da\tNumber of days till last recharge of data account\t\n",
    "last_rech_amt_ma\tAmount of last recharge of main account (in Indonesian Rupiah)\t\n",
    "cnt_ma_rech30\tNumber of times main account got recharged in last 30 days\t\n",
    "fr_ma_rech30\tFrequency of main account recharged in last 30 days\tUnsure of given definition\n",
    "sumamnt_ma_rech30\tTotal amount of recharge in main account over last 30 days (in Indonesian Rupiah)\t\n",
    "medianamnt_ma_rech30\tMedian of amount of recharges done in main account over last 30 days at user level (in Indonesian Rupiah)\t\n",
    "medianmarechprebal30\tMedian of main account balance just before recharge in last 30 days at user level (in Indonesian Rupiah)\t\n",
    "cnt_ma_rech90\tNumber of times main account got recharged in last 90 days\t\n",
    "fr_ma_rech90\tFrequency of main account recharged in last 90 days\tUnsure of given definition\n",
    "sumamnt_ma_rech90\tTotal amount of recharge in main account over last 90 days (in Indonasian Rupiah)\t\n",
    "medianamnt_ma_rech90\tMedian of amount of recharges done in main account over last 90 days at user level (in Indonasian Rupiah)\t\n",
    "medianmarechprebal90\tMedian of main account balance just before recharge in last 90 days at user level (in Indonasian Rupiah)\t\n",
    "cnt_da_rech30\tNumber of times data account got recharged in last 30 days\t\n",
    "fr_da_rech30\tFrequency of data account recharged in last 30 days\t\n",
    "cnt_da_rech90\tNumber of times data account got recharged in last 90 days\t\n",
    "fr_da_rech90\tFrequency of data account recharged in last 90 days\t\n",
    "cnt_loans30\tNumber of loans taken by user in last 30 days\t\n",
    "amnt_loans30\tTotal amount of loans taken by user in last 30 days\t\n",
    "maxamnt_loans30\tmaximum amount of loan taken by the user in last 30 days\tThere are only two options: 5 & 10 Rs., for which the user needs to pay back 6 & 12 Rs. respectively\n",
    "medianamnt_loans30\tMedian of amounts of loan taken by the user in last 30 days\t\n",
    "cnt_loans90\tNumber of loans taken by user in last 90 days\t\n",
    "amnt_loans90\tTotal amount of loans taken by user in last 90 days\t\n",
    "maxamnt_loans90\tmaximum amount of loan taken by the user in last 90 days\t\n",
    "medianamnt_loans90\tMedian of amounts of loan taken by the user in last 90 days\t\n",
    "payback30\tAverage payback time in days over last 30 days\t\n",
    "payback90\tAverage payback time in days over last 90 days\t\n",
    "pcircle\ttelecom circle\t\n",
    "pdate\tdate\t\n"
   ]
  },
  {
   "cell_type": "code",
   "execution_count": 1,
   "metadata": {},
   "outputs": [],
   "source": [
    "import pandas as pd \n",
    "import numpy as np \n",
    "import matplotlib.pyplot as plt \n",
    "import seaborn as sn \n",
    "import warnings\n",
    "warnings.filterwarnings('ignore')"
   ]
  },
  {
   "cell_type": "code",
   "execution_count": 2,
   "metadata": {},
   "outputs": [
    {
     "data": {
      "text/html": [
       "<div>\n",
       "<style scoped>\n",
       "    .dataframe tbody tr th:only-of-type {\n",
       "        vertical-align: middle;\n",
       "    }\n",
       "\n",
       "    .dataframe tbody tr th {\n",
       "        vertical-align: top;\n",
       "    }\n",
       "\n",
       "    .dataframe thead th {\n",
       "        text-align: right;\n",
       "    }\n",
       "</style>\n",
       "<table border=\"1\" class=\"dataframe\">\n",
       "  <thead>\n",
       "    <tr style=\"text-align: right;\">\n",
       "      <th></th>\n",
       "      <th>\\tlabel\\tmsisdn\\taon\\tdaily_decr30\\tdaily_decr90\\trental30\\trental90\\tlast_rech_date_ma\\tlast_rech_date_da\\tlast_rech_amt_ma\\tcnt_ma_rech30\\tfr_ma_rech30\\tsumamnt_ma_rech30\\tmedianamnt_ma_rech30\\tmedianmarechprebal30\\tcnt_ma_rech90\\tfr_ma_rech90\\tsumamnt_ma_rech90\\tmedianamnt_ma_rech90\\tmedianmarechprebal90\\tcnt_da_rech30\\tfr_da_rech30\\tcnt_da_rech90\\tfr_da_rech90\\tcnt_loans30\\tamnt_loans30\\tmaxamnt_loans30\\tmedianamnt_loans30\\tcnt_loans90\\tamnt_loans90\\tmaxamnt_loans90\\tmedianamnt_loans90\\tpayback30\\tpayback90\\tpcircle\\tpdate</th>\n",
       "    </tr>\n",
       "  </thead>\n",
       "  <tbody>\n",
       "    <tr>\n",
       "      <th>0</th>\n",
       "      <td>1\\t0\\t21408I70789\\t272\\t3055.05\\t3065.15\\t220....</td>\n",
       "    </tr>\n",
       "    <tr>\n",
       "      <th>1</th>\n",
       "      <td>2\\t1\\t76462I70374\\t712\\t12122\\t12124.75\\t3691....</td>\n",
       "    </tr>\n",
       "    <tr>\n",
       "      <th>2</th>\n",
       "      <td>3\\t1\\t17943I70372\\t535\\t1398\\t1398\\t900.13\\t90...</td>\n",
       "    </tr>\n",
       "    <tr>\n",
       "      <th>3</th>\n",
       "      <td>4\\t1\\t55773I70781\\t241\\t21.228\\t21.228\\t159.42...</td>\n",
       "    </tr>\n",
       "    <tr>\n",
       "      <th>4</th>\n",
       "      <td>5\\t1\\t03813I82730\\t947\\t150.6193333\\t150.61933...</td>\n",
       "    </tr>\n",
       "  </tbody>\n",
       "</table>\n",
       "</div>"
      ],
      "text/plain": [
       "  \\tlabel\\tmsisdn\\taon\\tdaily_decr30\\tdaily_decr90\\trental30\\trental90\\tlast_rech_date_ma\\tlast_rech_date_da\\tlast_rech_amt_ma\\tcnt_ma_rech30\\tfr_ma_rech30\\tsumamnt_ma_rech30\\tmedianamnt_ma_rech30\\tmedianmarechprebal30\\tcnt_ma_rech90\\tfr_ma_rech90\\tsumamnt_ma_rech90\\tmedianamnt_ma_rech90\\tmedianmarechprebal90\\tcnt_da_rech30\\tfr_da_rech30\\tcnt_da_rech90\\tfr_da_rech90\\tcnt_loans30\\tamnt_loans30\\tmaxamnt_loans30\\tmedianamnt_loans30\\tcnt_loans90\\tamnt_loans90\\tmaxamnt_loans90\\tmedianamnt_loans90\\tpayback30\\tpayback90\\tpcircle\\tpdate\n",
       "0  1\\t0\\t21408I70789\\t272\\t3055.05\\t3065.15\\t220....                                                                                                                                                                                                                                                                                                                                                                                                                                                                                                  \n",
       "1  2\\t1\\t76462I70374\\t712\\t12122\\t12124.75\\t3691....                                                                                                                                                                                                                                                                                                                                                                                                                                                                                                  \n",
       "2  3\\t1\\t17943I70372\\t535\\t1398\\t1398\\t900.13\\t90...                                                                                                                                                                                                                                                                                                                                                                                                                                                                                                  \n",
       "3  4\\t1\\t55773I70781\\t241\\t21.228\\t21.228\\t159.42...                                                                                                                                                                                                                                                                                                                                                                                                                                                                                                  \n",
       "4  5\\t1\\t03813I82730\\t947\\t150.6193333\\t150.61933...                                                                                                                                                                                                                                                                                                                                                                                                                                                                                                  "
      ]
     },
     "execution_count": 2,
     "metadata": {},
     "output_type": "execute_result"
    }
   ],
   "source": [
    "df = pd.read_csv('micro_credit.csv')\n",
    "df.head()"
   ]
  },
  {
   "cell_type": "code",
   "execution_count": 3,
   "metadata": {},
   "outputs": [],
   "source": [
    "df = pd.read_csv('micro_credit.csv')"
   ]
  },
  {
   "cell_type": "code",
   "execution_count": 4,
   "metadata": {},
   "outputs": [
    {
     "data": {
      "text/html": [
       "<div>\n",
       "<style scoped>\n",
       "    .dataframe tbody tr th:only-of-type {\n",
       "        vertical-align: middle;\n",
       "    }\n",
       "\n",
       "    .dataframe tbody tr th {\n",
       "        vertical-align: top;\n",
       "    }\n",
       "\n",
       "    .dataframe thead th {\n",
       "        text-align: right;\n",
       "    }\n",
       "</style>\n",
       "<table border=\"1\" class=\"dataframe\">\n",
       "  <thead>\n",
       "    <tr style=\"text-align: right;\">\n",
       "      <th></th>\n",
       "      <th>\\tlabel\\tmsisdn\\taon\\tdaily_decr30\\tdaily_decr90\\trental30\\trental90\\tlast_rech_date_ma\\tlast_rech_date_da\\tlast_rech_amt_ma\\tcnt_ma_rech30\\tfr_ma_rech30\\tsumamnt_ma_rech30\\tmedianamnt_ma_rech30\\tmedianmarechprebal30\\tcnt_ma_rech90\\tfr_ma_rech90\\tsumamnt_ma_rech90\\tmedianamnt_ma_rech90\\tmedianmarechprebal90\\tcnt_da_rech30\\tfr_da_rech30\\tcnt_da_rech90\\tfr_da_rech90\\tcnt_loans30\\tamnt_loans30\\tmaxamnt_loans30\\tmedianamnt_loans30\\tcnt_loans90\\tamnt_loans90\\tmaxamnt_loans90\\tmedianamnt_loans90\\tpayback30\\tpayback90\\tpcircle\\tpdate</th>\n",
       "    </tr>\n",
       "  </thead>\n",
       "  <tbody>\n",
       "    <tr>\n",
       "      <th>0</th>\n",
       "      <td>1\\t0\\t21408I70789\\t272\\t3055.05\\t3065.15\\t220....</td>\n",
       "    </tr>\n",
       "    <tr>\n",
       "      <th>1</th>\n",
       "      <td>2\\t1\\t76462I70374\\t712\\t12122\\t12124.75\\t3691....</td>\n",
       "    </tr>\n",
       "    <tr>\n",
       "      <th>2</th>\n",
       "      <td>3\\t1\\t17943I70372\\t535\\t1398\\t1398\\t900.13\\t90...</td>\n",
       "    </tr>\n",
       "    <tr>\n",
       "      <th>3</th>\n",
       "      <td>4\\t1\\t55773I70781\\t241\\t21.228\\t21.228\\t159.42...</td>\n",
       "    </tr>\n",
       "    <tr>\n",
       "      <th>4</th>\n",
       "      <td>5\\t1\\t03813I82730\\t947\\t150.6193333\\t150.61933...</td>\n",
       "    </tr>\n",
       "    <tr>\n",
       "      <th>...</th>\n",
       "      <td>...</td>\n",
       "    </tr>\n",
       "    <tr>\n",
       "      <th>209588</th>\n",
       "      <td>209589\\t1\\t22758I85348\\t404\\t151.8723333\\t151....</td>\n",
       "    </tr>\n",
       "    <tr>\n",
       "      <th>209589</th>\n",
       "      <td>209590\\t1\\t95583I84455\\t1075\\t36.936\\t36.936\\t...</td>\n",
       "    </tr>\n",
       "    <tr>\n",
       "      <th>209590</th>\n",
       "      <td>209591\\t1\\t28556I85350\\t1013\\t11843.11167\\t119...</td>\n",
       "    </tr>\n",
       "    <tr>\n",
       "      <th>209591</th>\n",
       "      <td>209592\\t1\\t59712I82733\\t1732\\t12488.22833\\t125...</td>\n",
       "    </tr>\n",
       "    <tr>\n",
       "      <th>209592</th>\n",
       "      <td>209593\\t1\\t65061I85339\\t1581\\t4489.362\\t4534.8...</td>\n",
       "    </tr>\n",
       "  </tbody>\n",
       "</table>\n",
       "<p>209593 rows × 1 columns</p>\n",
       "</div>"
      ],
      "text/plain": [
       "       \\tlabel\\tmsisdn\\taon\\tdaily_decr30\\tdaily_decr90\\trental30\\trental90\\tlast_rech_date_ma\\tlast_rech_date_da\\tlast_rech_amt_ma\\tcnt_ma_rech30\\tfr_ma_rech30\\tsumamnt_ma_rech30\\tmedianamnt_ma_rech30\\tmedianmarechprebal30\\tcnt_ma_rech90\\tfr_ma_rech90\\tsumamnt_ma_rech90\\tmedianamnt_ma_rech90\\tmedianmarechprebal90\\tcnt_da_rech30\\tfr_da_rech30\\tcnt_da_rech90\\tfr_da_rech90\\tcnt_loans30\\tamnt_loans30\\tmaxamnt_loans30\\tmedianamnt_loans30\\tcnt_loans90\\tamnt_loans90\\tmaxamnt_loans90\\tmedianamnt_loans90\\tpayback30\\tpayback90\\tpcircle\\tpdate\n",
       "0       1\\t0\\t21408I70789\\t272\\t3055.05\\t3065.15\\t220....                                                                                                                                                                                                                                                                                                                                                                                                                                                                                                  \n",
       "1       2\\t1\\t76462I70374\\t712\\t12122\\t12124.75\\t3691....                                                                                                                                                                                                                                                                                                                                                                                                                                                                                                  \n",
       "2       3\\t1\\t17943I70372\\t535\\t1398\\t1398\\t900.13\\t90...                                                                                                                                                                                                                                                                                                                                                                                                                                                                                                  \n",
       "3       4\\t1\\t55773I70781\\t241\\t21.228\\t21.228\\t159.42...                                                                                                                                                                                                                                                                                                                                                                                                                                                                                                  \n",
       "4       5\\t1\\t03813I82730\\t947\\t150.6193333\\t150.61933...                                                                                                                                                                                                                                                                                                                                                                                                                                                                                                  \n",
       "...                                                   ...                                                                                                                                                                                                                                                                                                                                                                                                                                                                                                  \n",
       "209588  209589\\t1\\t22758I85348\\t404\\t151.8723333\\t151....                                                                                                                                                                                                                                                                                                                                                                                                                                                                                                  \n",
       "209589  209590\\t1\\t95583I84455\\t1075\\t36.936\\t36.936\\t...                                                                                                                                                                                                                                                                                                                                                                                                                                                                                                  \n",
       "209590  209591\\t1\\t28556I85350\\t1013\\t11843.11167\\t119...                                                                                                                                                                                                                                                                                                                                                                                                                                                                                                  \n",
       "209591  209592\\t1\\t59712I82733\\t1732\\t12488.22833\\t125...                                                                                                                                                                                                                                                                                                                                                                                                                                                                                                  \n",
       "209592  209593\\t1\\t65061I85339\\t1581\\t4489.362\\t4534.8...                                                                                                                                                                                                                                                                                                                                                                                                                                                                                                  \n",
       "\n",
       "[209593 rows x 1 columns]"
      ]
     },
     "execution_count": 4,
     "metadata": {},
     "output_type": "execute_result"
    }
   ],
   "source": [
    "df"
   ]
  },
  {
   "cell_type": "code",
   "execution_count": 5,
   "metadata": {},
   "outputs": [
    {
     "data": {
      "text/plain": [
       "(209593, 1)"
      ]
     },
     "execution_count": 5,
     "metadata": {},
     "output_type": "execute_result"
    }
   ],
   "source": [
    "df.shape"
   ]
  },
  {
   "cell_type": "code",
   "execution_count": 6,
   "metadata": {},
   "outputs": [
    {
     "data": {
      "text/plain": [
       "\\tlabel\\tmsisdn\\taon\\tdaily_decr30\\tdaily_decr90\\trental30\\trental90\\tlast_rech_date_ma\\tlast_rech_date_da\\tlast_rech_amt_ma\\tcnt_ma_rech30\\tfr_ma_rech30\\tsumamnt_ma_rech30\\tmedianamnt_ma_rech30\\tmedianmarechprebal30\\tcnt_ma_rech90\\tfr_ma_rech90\\tsumamnt_ma_rech90\\tmedianamnt_ma_rech90\\tmedianmarechprebal90\\tcnt_da_rech30\\tfr_da_rech30\\tcnt_da_rech90\\tfr_da_rech90\\tcnt_loans30\\tamnt_loans30\\tmaxamnt_loans30\\tmedianamnt_loans30\\tcnt_loans90\\tamnt_loans90\\tmaxamnt_loans90\\tmedianamnt_loans90\\tpayback30\\tpayback90\\tpcircle\\tpdate    object\n",
       "dtype: object"
      ]
     },
     "execution_count": 6,
     "metadata": {},
     "output_type": "execute_result"
    }
   ],
   "source": [
    "df.dtypes"
   ]
  },
  {
   "cell_type": "code",
   "execution_count": 7,
   "metadata": {},
   "outputs": [
    {
     "data": {
      "text/html": [
       "<div>\n",
       "<style scoped>\n",
       "    .dataframe tbody tr th:only-of-type {\n",
       "        vertical-align: middle;\n",
       "    }\n",
       "\n",
       "    .dataframe tbody tr th {\n",
       "        vertical-align: top;\n",
       "    }\n",
       "\n",
       "    .dataframe thead th {\n",
       "        text-align: right;\n",
       "    }\n",
       "</style>\n",
       "<table border=\"1\" class=\"dataframe\">\n",
       "  <thead>\n",
       "    <tr style=\"text-align: right;\">\n",
       "      <th></th>\n",
       "      <th>\\tlabel\\tmsisdn\\taon\\tdaily_decr30\\tdaily_decr90\\trental30\\trental90\\tlast_rech_date_ma\\tlast_rech_date_da\\tlast_rech_amt_ma\\tcnt_ma_rech30\\tfr_ma_rech30\\tsumamnt_ma_rech30\\tmedianamnt_ma_rech30\\tmedianmarechprebal30\\tcnt_ma_rech90\\tfr_ma_rech90\\tsumamnt_ma_rech90\\tmedianamnt_ma_rech90\\tmedianmarechprebal90\\tcnt_da_rech30\\tfr_da_rech30\\tcnt_da_rech90\\tfr_da_rech90\\tcnt_loans30\\tamnt_loans30\\tmaxamnt_loans30\\tmedianamnt_loans30\\tcnt_loans90\\tamnt_loans90\\tmaxamnt_loans90\\tmedianamnt_loans90\\tpayback30\\tpayback90\\tpcircle\\tpdate</th>\n",
       "    </tr>\n",
       "  </thead>\n",
       "  <tbody>\n",
       "    <tr>\n",
       "      <th>count</th>\n",
       "      <td>209593</td>\n",
       "    </tr>\n",
       "    <tr>\n",
       "      <th>unique</th>\n",
       "      <td>209593</td>\n",
       "    </tr>\n",
       "    <tr>\n",
       "      <th>top</th>\n",
       "      <td>137976\\t1\\t99344I70376\\t264\\t3835.333333\\t3870...</td>\n",
       "    </tr>\n",
       "    <tr>\n",
       "      <th>freq</th>\n",
       "      <td>1</td>\n",
       "    </tr>\n",
       "  </tbody>\n",
       "</table>\n",
       "</div>"
      ],
      "text/plain": [
       "       \\tlabel\\tmsisdn\\taon\\tdaily_decr30\\tdaily_decr90\\trental30\\trental90\\tlast_rech_date_ma\\tlast_rech_date_da\\tlast_rech_amt_ma\\tcnt_ma_rech30\\tfr_ma_rech30\\tsumamnt_ma_rech30\\tmedianamnt_ma_rech30\\tmedianmarechprebal30\\tcnt_ma_rech90\\tfr_ma_rech90\\tsumamnt_ma_rech90\\tmedianamnt_ma_rech90\\tmedianmarechprebal90\\tcnt_da_rech30\\tfr_da_rech30\\tcnt_da_rech90\\tfr_da_rech90\\tcnt_loans30\\tamnt_loans30\\tmaxamnt_loans30\\tmedianamnt_loans30\\tcnt_loans90\\tamnt_loans90\\tmaxamnt_loans90\\tmedianamnt_loans90\\tpayback30\\tpayback90\\tpcircle\\tpdate\n",
       "count                                              209593                                                                                                                                                                                                                                                                                                                                                                                                                                                                                                  \n",
       "unique                                             209593                                                                                                                                                                                                                                                                                                                                                                                                                                                                                                  \n",
       "top     137976\\t1\\t99344I70376\\t264\\t3835.333333\\t3870...                                                                                                                                                                                                                                                                                                                                                                                                                                                                                                  \n",
       "freq                                                    1                                                                                                                                                                                                                                                                                                                                                                                                                                                                                                  "
      ]
     },
     "execution_count": 7,
     "metadata": {},
     "output_type": "execute_result"
    }
   ],
   "source": [
    "df.describe()"
   ]
  },
  {
   "cell_type": "code",
   "execution_count": 8,
   "metadata": {},
   "outputs": [
    {
     "data": {
      "text/plain": [
       "\\tlabel\\tmsisdn\\taon\\tdaily_decr30\\tdaily_decr90\\trental30\\trental90\\tlast_rech_date_ma\\tlast_rech_date_da\\tlast_rech_amt_ma\\tcnt_ma_rech30\\tfr_ma_rech30\\tsumamnt_ma_rech30\\tmedianamnt_ma_rech30\\tmedianmarechprebal30\\tcnt_ma_rech90\\tfr_ma_rech90\\tsumamnt_ma_rech90\\tmedianamnt_ma_rech90\\tmedianmarechprebal90\\tcnt_da_rech30\\tfr_da_rech30\\tcnt_da_rech90\\tfr_da_rech90\\tcnt_loans30\\tamnt_loans30\\tmaxamnt_loans30\\tmedianamnt_loans30\\tcnt_loans90\\tamnt_loans90\\tmaxamnt_loans90\\tmedianamnt_loans90\\tpayback30\\tpayback90\\tpcircle\\tpdate    0\n",
       "dtype: int64"
      ]
     },
     "execution_count": 8,
     "metadata": {},
     "output_type": "execute_result"
    }
   ],
   "source": [
    "df.isnull().sum()"
   ]
  },
  {
   "cell_type": "code",
   "execution_count": null,
   "metadata": {},
   "outputs": [],
   "source": []
  },
  {
   "cell_type": "code",
   "execution_count": 9,
   "metadata": {},
   "outputs": [
    {
     "name": "stdout",
     "output_type": "stream",
     "text": [
      "<class 'pandas.core.frame.DataFrame'>\n",
      "RangeIndex: 209593 entries, 0 to 209592\n",
      "Data columns (total 1 columns):\n",
      " #   Column                                                                                                                                                                                                                                                                                                                                                                                                                                                                                                            Non-Null Count   Dtype \n",
      "---  ------                                                                                                                                                                                                                                                                                                                                                                                                                                                                                                            --------------   ----- \n",
      " 0   \tlabel\tmsisdn\taon\tdaily_decr30\tdaily_decr90\trental30\trental90\tlast_rech_date_ma\tlast_rech_date_da\tlast_rech_amt_ma\tcnt_ma_rech30\tfr_ma_rech30\tsumamnt_ma_rech30\tmedianamnt_ma_rech30\tmedianmarechprebal30\tcnt_ma_rech90\tfr_ma_rech90\tsumamnt_ma_rech90\tmedianamnt_ma_rech90\tmedianmarechprebal90\tcnt_da_rech30\tfr_da_rech30\tcnt_da_rech90\tfr_da_rech90\tcnt_loans30\tamnt_loans30\tmaxamnt_loans30\tmedianamnt_loans30\tcnt_loans90\tamnt_loans90\tmaxamnt_loans90\tmedianamnt_loans90\tpayback30\tpayback90\tpcircle\tpdate  209593 non-null  object\n",
      "dtypes: object(1)\n",
      "memory usage: 1.6+ MB\n"
     ]
    }
   ],
   "source": [
    "df.info('micro_credit.csv')"
   ]
  },
  {
   "cell_type": "code",
   "execution_count": 10,
   "metadata": {},
   "outputs": [],
   "source": [
    "# Looking unique values"
   ]
  },
  {
   "cell_type": "code",
   "execution_count": 11,
   "metadata": {},
   "outputs": [
    {
     "name": "stdout",
     "output_type": "stream",
     "text": [
      "\\tlabel\\tmsisdn\\taon\\tdaily_decr30\\tdaily_decr90\\trental30\\trental90\\tlast_rech_date_ma\\tlast_rech_date_da\\tlast_rech_amt_ma\\tcnt_ma_rech30\\tfr_ma_rech30\\tsumamnt_ma_rech30\\tmedianamnt_ma_rech30\\tmedianmarechprebal30\\tcnt_ma_rech90\\tfr_ma_rech90\\tsumamnt_ma_rech90\\tmedianamnt_ma_rech90\\tmedianmarechprebal90\\tcnt_da_rech30\\tfr_da_rech30\\tcnt_da_rech90\\tfr_da_rech90\\tcnt_loans30\\tamnt_loans30\\tmaxamnt_loans30\\tmedianamnt_loans30\\tcnt_loans90\\tamnt_loans90\\tmaxamnt_loans90\\tmedianamnt_loans90\\tpayback30\\tpayback90\\tpcircle\\tpdate    209593\n",
      "dtype: int64\n"
     ]
    }
   ],
   "source": [
    "print(df.nunique())"
   ]
  },
  {
   "cell_type": "code",
   "execution_count": 12,
   "metadata": {},
   "outputs": [],
   "source": [
    "# looking for data"
   ]
  },
  {
   "cell_type": "code",
   "execution_count": 13,
   "metadata": {},
   "outputs": [
    {
     "name": "stdout",
     "output_type": "stream",
     "text": [
      "  \\tlabel\\tmsisdn\\taon\\tdaily_decr30\\tdaily_decr90\\trental30\\trental90\\tlast_rech_date_ma\\tlast_rech_date_da\\tlast_rech_amt_ma\\tcnt_ma_rech30\\tfr_ma_rech30\\tsumamnt_ma_rech30\\tmedianamnt_ma_rech30\\tmedianmarechprebal30\\tcnt_ma_rech90\\tfr_ma_rech90\\tsumamnt_ma_rech90\\tmedianamnt_ma_rech90\\tmedianmarechprebal90\\tcnt_da_rech30\\tfr_da_rech30\\tcnt_da_rech90\\tfr_da_rech90\\tcnt_loans30\\tamnt_loans30\\tmaxamnt_loans30\\tmedianamnt_loans30\\tcnt_loans90\\tamnt_loans90\\tmaxamnt_loans90\\tmedianamnt_loans90\\tpayback30\\tpayback90\\tpcircle\\tpdate\n",
      "0  1\\t0\\t21408I70789\\t272\\t3055.05\\t3065.15\\t220....                                                                                                                                                                                                                                                                                                                                                                                                                                                                                                  \n",
      "1  2\\t1\\t76462I70374\\t712\\t12122\\t12124.75\\t3691....                                                                                                                                                                                                                                                                                                                                                                                                                                                                                                  \n",
      "2  3\\t1\\t17943I70372\\t535\\t1398\\t1398\\t900.13\\t90...                                                                                                                                                                                                                                                                                                                                                                                                                                                                                                  \n",
      "3  4\\t1\\t55773I70781\\t241\\t21.228\\t21.228\\t159.42...                                                                                                                                                                                                                                                                                                                                                                                                                                                                                                  \n",
      "4  5\\t1\\t03813I82730\\t947\\t150.6193333\\t150.61933...                                                                                                                                                                                                                                                                                                                                                                                                                                                                                                  \n"
     ]
    }
   ],
   "source": [
    "print(df.head())"
   ]
  },
  {
   "cell_type": "markdown",
   "metadata": {},
   "source": [
    "Format for the plot grid:"
   ]
  },
  {
   "cell_type": "code",
   "execution_count": null,
   "metadata": {},
   "outputs": [],
   "source": []
  },
  {
   "cell_type": "code",
   "execution_count": null,
   "metadata": {},
   "outputs": [],
   "source": []
  }
 ],
 "metadata": {
  "kernelspec": {
   "display_name": "Python 3",
   "language": "python",
   "name": "python3"
  },
  "language_info": {
   "codemirror_mode": {
    "name": "ipython",
    "version": 3
   },
   "file_extension": ".py",
   "mimetype": "text/x-python",
   "name": "python",
   "nbconvert_exporter": "python",
   "pygments_lexer": "ipython3",
   "version": "3.8.5"
  }
 },
 "nbformat": 4,
 "nbformat_minor": 4
}
